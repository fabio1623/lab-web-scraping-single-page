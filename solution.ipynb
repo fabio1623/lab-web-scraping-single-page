{
 "cells": [
  {
   "attachments": {},
   "cell_type": "markdown",
   "metadata": {},
   "source": [
    "# Web Scraping Single Page (popvortex)"
   ]
  },
  {
   "cell_type": "code",
   "execution_count": null,
   "metadata": {},
   "outputs": [],
   "source": [
    "from bs4 import BeautifulSoup\n",
    "import requests\n",
    "import pandas as pd\n",
    "import random\n",
    "from IPython.display import display\n",
    "from ipywidgets import widgets, Output"
   ]
  },
  {
   "cell_type": "code",
   "execution_count": null,
   "metadata": {},
   "outputs": [],
   "source": [
    "url = 'https://www.popvortex.com/music/charts/top-100-songs.php'"
   ]
  },
  {
   "cell_type": "code",
   "execution_count": null,
   "metadata": {},
   "outputs": [],
   "source": [
    "response = requests.get(url)\n",
    "response.status_code"
   ]
  },
  {
   "cell_type": "code",
   "execution_count": null,
   "metadata": {},
   "outputs": [],
   "source": [
    "soup = BeautifulSoup(response.content, \"html.parser\")"
   ]
  },
  {
   "cell_type": "code",
   "execution_count": null,
   "metadata": {},
   "outputs": [],
   "source": [
    "titles = [tag.get_text() for tag in soup.select('p > cite')]\n",
    "len(titles)"
   ]
  },
  {
   "cell_type": "code",
   "execution_count": null,
   "metadata": {},
   "outputs": [],
   "source": [
    "artists = [tag.get_text() for tag in soup.select('p > em')]\n",
    "len(artists)"
   ]
  },
  {
   "cell_type": "code",
   "execution_count": null,
   "metadata": {},
   "outputs": [],
   "source": [
    "genre_release_list = [tag.get_text() for tag in soup.select('.chart-wrapper li:has(strong)')]\n",
    "\n",
    "genres = [genre.split(': ')[1] for genre in genre_release_list[::2]]\n",
    "releases = [genre.split(': ')[1] for genre in genre_release_list[1::2]]"
   ]
  },
  {
   "cell_type": "code",
   "execution_count": null,
   "metadata": {},
   "outputs": [],
   "source": [
    "data = pd.DataFrame({\n",
    "    'titles': titles,\n",
    "    'artists': artists,\n",
    "    'genres': genres,\n",
    "    'release_date': releases\n",
    "})\n",
    "\n",
    "data.head()"
   ]
  },
  {
   "attachments": {},
   "cell_type": "markdown",
   "metadata": {},
   "source": [
    "# Web Scraping Single Page (billboard)"
   ]
  },
  {
   "cell_type": "code",
   "execution_count": null,
   "metadata": {},
   "outputs": [],
   "source": [
    "url = 'https://www.billboard.com/charts/hot-100/'"
   ]
  },
  {
   "cell_type": "code",
   "execution_count": null,
   "metadata": {},
   "outputs": [],
   "source": [
    "response = requests.get(url)\n",
    "response.status_code"
   ]
  },
  {
   "cell_type": "code",
   "execution_count": null,
   "metadata": {},
   "outputs": [],
   "source": [
    "soup = BeautifulSoup(response.content, \"html.parser\")"
   ]
  },
  {
   "cell_type": "code",
   "execution_count": null,
   "metadata": {},
   "outputs": [],
   "source": [
    "titles = [tag.get_text().strip() for tag in soup.select('.chart-results-list #title-of-a-story.a-no-trucate')]\n",
    "len(titles)"
   ]
  },
  {
   "cell_type": "code",
   "execution_count": null,
   "metadata": {},
   "outputs": [],
   "source": [
    "artists = [tag.get_text().strip() for tag in soup.select('.chart-results-list span.a-no-trucate')]\n",
    "len(artists)"
   ]
  },
  {
   "cell_type": "code",
   "execution_count": null,
   "metadata": {},
   "outputs": [],
   "source": [
    "chart_credits = [tag for tag in soup.select('.o-chart-credits p')]"
   ]
  },
  {
   "cell_type": "code",
   "execution_count": null,
   "metadata": {},
   "outputs": [],
   "source": [
    "songwriters = [tag.get_text() for tag in chart_credits[::3]][1::]\n",
    "len(songwriters)"
   ]
  },
  {
   "cell_type": "code",
   "execution_count": null,
   "metadata": {},
   "outputs": [],
   "source": [
    "producers = [tag.get_text() for tag in chart_credits[1::3]][1::]\n",
    "len(producers)"
   ]
  },
  {
   "cell_type": "code",
   "execution_count": null,
   "metadata": {},
   "outputs": [],
   "source": [
    "labels = [tag.get_text() for tag in chart_credits[2::3]][1::]\n",
    "len(labels)"
   ]
  },
  {
   "cell_type": "code",
   "execution_count": null,
   "metadata": {},
   "outputs": [],
   "source": [
    "awards = [tag for tag in soup.select('.chart-results-list li.lrv-u-width-100p ul li:nth-child(2)')][1::2]\n",
    "len(awards)"
   ]
  },
  {
   "cell_type": "code",
   "execution_count": null,
   "metadata": {},
   "outputs": [],
   "source": [
    "last_weeks = [tag.get_text().strip() for tag in soup.select('.chart-results-list li.lrv-u-width-100p ul li:nth-child(3)')][1::2]\n",
    "len(last_weeks)"
   ]
  },
  {
   "cell_type": "code",
   "execution_count": null,
   "metadata": {},
   "outputs": [],
   "source": [
    "peak_pos = [tag.get_text().strip() for tag in soup.select('.chart-results-list li.lrv-u-width-100p ul li:nth-child(4)')][1::2]\n",
    "len(peak_pos)"
   ]
  },
  {
   "cell_type": "code",
   "execution_count": null,
   "metadata": {},
   "outputs": [],
   "source": [
    "wks = [tag.get_text().strip() for tag in soup.select('.chart-results-list li.lrv-u-width-100p ul li:nth-child(5)')][1::2]\n",
    "len(wks)"
   ]
  },
  {
   "cell_type": "code",
   "execution_count": null,
   "metadata": {},
   "outputs": [],
   "source": [
    "data = pd.DataFrame({\n",
    "    'title': titles,\n",
    "    'artists': artists,\n",
    "    'songwriter': songwriters,\n",
    "    'producer': producers,\n",
    "    'label': labels,\n",
    "    'award': awards,\n",
    "    'last_week': last_weeks,\n",
    "    'peak_pos': peak_pos,\n",
    "    'wks': wks\n",
    "})\n",
    "\n",
    "data.head()"
   ]
  },
  {
   "cell_type": "code",
   "execution_count": null,
   "metadata": {},
   "outputs": [],
   "source": [
    "data.to_csv('top_100_songs_billboard.csv')"
   ]
  },
  {
   "attachments": {},
   "cell_type": "markdown",
   "metadata": {},
   "source": [
    "#### Writing program for song recommendation"
   ]
  },
  {
   "cell_type": "code",
   "execution_count": null,
   "metadata": {},
   "outputs": [],
   "source": [
    "print('''Welcome User! \n",
    "Give me the title of a song you like and I will recommend you a new one.''')\n",
    "\n",
    "titles = data['title'].str.lower().str.strip()\n",
    "\n",
    "while True:\n",
    "    user_input = input(\"What is your song? (or 'exit' to quit): \")\n",
    "    if user_input.strip() == '':\n",
    "        print('You have to input a valid string (Not empty, nor only white-spaces).')\n",
    "        continue\n",
    "\n",
    "    user_input_lower = user_input.lower()\n",
    "    if user_input_lower == 'exit':\n",
    "        break\n",
    "\n",
    "    user_title = user_input_lower.strip()\n",
    "    if user_title not in titles.values:\n",
    "        print(f\"I don't know '{user_input}' song and therefore cannot recommend anything. Try again.\")\n",
    "        continue\n",
    "\n",
    "    filtered_titles = [title for title in titles if title != user_title]\n",
    "    random_title = random.choice(filtered_titles)\n",
    "\n",
    "    print(f\"Based on '{user_input}', you can try: '{random_title}'\")"
   ]
  }
 ],
 "metadata": {
  "kernelspec": {
   "display_name": "base",
   "language": "python",
   "name": "python3"
  },
  "language_info": {
   "codemirror_mode": {
    "name": "ipython",
    "version": 3
   },
   "file_extension": ".py",
   "mimetype": "text/x-python",
   "name": "python",
   "nbconvert_exporter": "python",
   "pygments_lexer": "ipython3",
   "version": "3.9.13"
  },
  "orig_nbformat": 4,
  "vscode": {
   "interpreter": {
    "hash": "40d3a090f54c6569ab1632332b64b2c03c39dcf918b08424e98f38b5ae0af88f"
   }
  }
 },
 "nbformat": 4,
 "nbformat_minor": 2
}
