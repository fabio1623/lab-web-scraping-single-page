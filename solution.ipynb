{
 "cells": [
  {
   "attachments": {},
   "cell_type": "markdown",
   "metadata": {},
   "source": [
    "# Web Scraping Single Page (popvortex)"
   ]
  },
  {
   "cell_type": "code",
   "execution_count": 107,
   "metadata": {},
   "outputs": [],
   "source": [
    "from bs4 import BeautifulSoup\n",
    "import requests\n",
    "import pandas as pd"
   ]
  },
  {
   "cell_type": "code",
   "execution_count": 2,
   "metadata": {},
   "outputs": [],
   "source": [
    "url = 'https://www.popvortex.com/music/charts/top-100-songs.php'"
   ]
  },
  {
   "cell_type": "code",
   "execution_count": 3,
   "metadata": {},
   "outputs": [
    {
     "data": {
      "text/plain": [
       "200"
      ]
     },
     "execution_count": 3,
     "metadata": {},
     "output_type": "execute_result"
    }
   ],
   "source": [
    "response = requests.get(url)\n",
    "response.status_code"
   ]
  },
  {
   "cell_type": "code",
   "execution_count": 9,
   "metadata": {},
   "outputs": [],
   "source": [
    "soup = BeautifulSoup(response.content, \"html.parser\")"
   ]
  },
  {
   "cell_type": "code",
   "execution_count": 69,
   "metadata": {},
   "outputs": [
    {
     "data": {
      "text/plain": [
       "100"
      ]
     },
     "execution_count": 69,
     "metadata": {},
     "output_type": "execute_result"
    }
   ],
   "source": [
    "titles = [tag.get_text() for tag in soup.select('p > cite')]\n",
    "len(titles)"
   ]
  },
  {
   "cell_type": "code",
   "execution_count": 70,
   "metadata": {},
   "outputs": [
    {
     "data": {
      "text/plain": [
       "100"
      ]
     },
     "execution_count": 70,
     "metadata": {},
     "output_type": "execute_result"
    }
   ],
   "source": [
    "artists = [tag.get_text() for tag in soup.select('p > em')]\n",
    "len(artists)"
   ]
  },
  {
   "cell_type": "code",
   "execution_count": 105,
   "metadata": {},
   "outputs": [],
   "source": [
    "genre_release_list = [tag.get_text() for tag in soup.select('.chart-wrapper li:has(strong)')]\n",
    "\n",
    "genres = [genre.split(': ')[1] for genre in genre_release_list[::2]]\n",
    "releases = [genre.split(': ')[1] for genre in genre_release_list[1::2]]"
   ]
  },
  {
   "cell_type": "code",
   "execution_count": 109,
   "metadata": {},
   "outputs": [
    {
     "data": {
      "text/html": [
       "<div>\n",
       "<style scoped>\n",
       "    .dataframe tbody tr th:only-of-type {\n",
       "        vertical-align: middle;\n",
       "    }\n",
       "\n",
       "    .dataframe tbody tr th {\n",
       "        vertical-align: top;\n",
       "    }\n",
       "\n",
       "    .dataframe thead th {\n",
       "        text-align: right;\n",
       "    }\n",
       "</style>\n",
       "<table border=\"1\" class=\"dataframe\">\n",
       "  <thead>\n",
       "    <tr style=\"text-align: right;\">\n",
       "      <th></th>\n",
       "      <th>titles</th>\n",
       "      <th>artists</th>\n",
       "      <th>genres</th>\n",
       "      <th>release_date</th>\n",
       "    </tr>\n",
       "  </thead>\n",
       "  <tbody>\n",
       "    <tr>\n",
       "      <th>0</th>\n",
       "      <td>Separate Ways (Worlds Apart) [feat. Lzzy Hale]</td>\n",
       "      <td>Daughtry</td>\n",
       "      <td>Rock</td>\n",
       "      <td>January 5, 2023</td>\n",
       "    </tr>\n",
       "    <tr>\n",
       "      <th>1</th>\n",
       "      <td>Unholy</td>\n",
       "      <td>Sam Smith &amp; Kim Petras</td>\n",
       "      <td>Pop</td>\n",
       "      <td>September 22, 2022</td>\n",
       "    </tr>\n",
       "    <tr>\n",
       "      <th>2</th>\n",
       "      <td>Heart Like A Truck</td>\n",
       "      <td>Lainey Wilson</td>\n",
       "      <td>Country</td>\n",
       "      <td>August 12, 2022</td>\n",
       "    </tr>\n",
       "    <tr>\n",
       "      <th>3</th>\n",
       "      <td>Anti-Hero</td>\n",
       "      <td>Taylor Swift</td>\n",
       "      <td>Pop</td>\n",
       "      <td>October 21, 2022</td>\n",
       "    </tr>\n",
       "    <tr>\n",
       "      <th>4</th>\n",
       "      <td>Son Of A Sinner</td>\n",
       "      <td>Jelly Roll</td>\n",
       "      <td>Rock</td>\n",
       "      <td>September 17, 2021</td>\n",
       "    </tr>\n",
       "  </tbody>\n",
       "</table>\n",
       "</div>"
      ],
      "text/plain": [
       "                                           titles                 artists  \\\n",
       "0  Separate Ways (Worlds Apart) [feat. Lzzy Hale]                Daughtry   \n",
       "1                                          Unholy  Sam Smith & Kim Petras   \n",
       "2                              Heart Like A Truck           Lainey Wilson   \n",
       "3                                       Anti-Hero            Taylor Swift   \n",
       "4                                 Son Of A Sinner              Jelly Roll   \n",
       "\n",
       "    genres        release_date  \n",
       "0     Rock     January 5, 2023  \n",
       "1      Pop  September 22, 2022  \n",
       "2  Country     August 12, 2022  \n",
       "3      Pop    October 21, 2022  \n",
       "4     Rock  September 17, 2021  "
      ]
     },
     "execution_count": 109,
     "metadata": {},
     "output_type": "execute_result"
    }
   ],
   "source": [
    "data = pd.DataFrame({\n",
    "    'titles': titles,\n",
    "    'artists': artists,\n",
    "    'genres': genres,\n",
    "    'release_date': releases\n",
    "})\n",
    "\n",
    "data.head()"
   ]
  },
  {
   "attachments": {},
   "cell_type": "markdown",
   "metadata": {},
   "source": [
    "# Web Scraping Single Page (billboard)"
   ]
  },
  {
   "cell_type": "code",
   "execution_count": 165,
   "metadata": {},
   "outputs": [],
   "source": [
    "url = 'https://www.billboard.com/charts/hot-100/'"
   ]
  },
  {
   "cell_type": "code",
   "execution_count": 166,
   "metadata": {},
   "outputs": [
    {
     "data": {
      "text/plain": [
       "200"
      ]
     },
     "execution_count": 166,
     "metadata": {},
     "output_type": "execute_result"
    }
   ],
   "source": [
    "response = requests.get(url)\n",
    "response.status_code"
   ]
  },
  {
   "cell_type": "code",
   "execution_count": 167,
   "metadata": {},
   "outputs": [],
   "source": [
    "soup = BeautifulSoup(response.content, \"html.parser\")"
   ]
  },
  {
   "cell_type": "code",
   "execution_count": 223,
   "metadata": {},
   "outputs": [
    {
     "data": {
      "text/plain": [
       "100"
      ]
     },
     "execution_count": 223,
     "metadata": {},
     "output_type": "execute_result"
    }
   ],
   "source": [
    "titles = [tag.get_text().strip() for tag in soup.select('.chart-results-list #title-of-a-story.a-no-trucate')]\n",
    "len(titles)"
   ]
  },
  {
   "cell_type": "code",
   "execution_count": 224,
   "metadata": {},
   "outputs": [
    {
     "data": {
      "text/plain": [
       "100"
      ]
     },
     "execution_count": 224,
     "metadata": {},
     "output_type": "execute_result"
    }
   ],
   "source": [
    "artists = [tag.get_text().strip() for tag in soup.select('.chart-results-list span.a-no-trucate')]\n",
    "len(artists)"
   ]
  },
  {
   "cell_type": "code",
   "execution_count": 227,
   "metadata": {},
   "outputs": [
    {
     "data": {
      "text/plain": [
       "100"
      ]
     },
     "execution_count": 227,
     "metadata": {},
     "output_type": "execute_result"
    }
   ],
   "source": [
    "chart_credits = [tag for tag in soup.select('.o-chart-credits p')]"
   ]
  },
  {
   "cell_type": "code",
   "execution_count": 228,
   "metadata": {},
   "outputs": [
    {
     "data": {
      "text/plain": [
       "100"
      ]
     },
     "execution_count": 228,
     "metadata": {},
     "output_type": "execute_result"
    }
   ],
   "source": [
    "songwriters = [tag.get_text() for tag in chart_credits[::3]][1::]\n",
    "len(songwriters)"
   ]
  },
  {
   "cell_type": "code",
   "execution_count": 229,
   "metadata": {},
   "outputs": [
    {
     "data": {
      "text/plain": [
       "100"
      ]
     },
     "execution_count": 229,
     "metadata": {},
     "output_type": "execute_result"
    }
   ],
   "source": [
    "producers = [tag.get_text() for tag in chart_credits[1::3]][1::]\n",
    "len(producers)"
   ]
  },
  {
   "cell_type": "code",
   "execution_count": 230,
   "metadata": {},
   "outputs": [
    {
     "data": {
      "text/plain": [
       "100"
      ]
     },
     "execution_count": 230,
     "metadata": {},
     "output_type": "execute_result"
    }
   ],
   "source": [
    "labels = [tag.get_text() for tag in chart_credits[2::3]][1::]\n",
    "len(labels)"
   ]
  },
  {
   "cell_type": "code",
   "execution_count": 291,
   "metadata": {},
   "outputs": [
    {
     "data": {
      "text/plain": [
       "100"
      ]
     },
     "execution_count": 291,
     "metadata": {},
     "output_type": "execute_result"
    }
   ],
   "source": [
    "awards = [tag for tag in soup.select('.chart-results-list li.lrv-u-width-100p ul li:nth-child(2)')][1::2]\n",
    "len(awards)"
   ]
  },
  {
   "cell_type": "code",
   "execution_count": 265,
   "metadata": {},
   "outputs": [
    {
     "data": {
      "text/plain": [
       "100"
      ]
     },
     "execution_count": 265,
     "metadata": {},
     "output_type": "execute_result"
    }
   ],
   "source": [
    "last_weeks = [tag.get_text().strip() for tag in soup.select('.chart-results-list li.lrv-u-width-100p ul li:nth-child(3)')][1::2]\n",
    "len(last_weeks)"
   ]
  },
  {
   "cell_type": "code",
   "execution_count": 270,
   "metadata": {},
   "outputs": [
    {
     "data": {
      "text/plain": [
       "100"
      ]
     },
     "execution_count": 270,
     "metadata": {},
     "output_type": "execute_result"
    }
   ],
   "source": [
    "peak_pos = [tag.get_text().strip() for tag in soup.select('.chart-results-list li.lrv-u-width-100p ul li:nth-child(4)')][1::2]\n",
    "len(peak_pos)"
   ]
  },
  {
   "cell_type": "code",
   "execution_count": 273,
   "metadata": {},
   "outputs": [
    {
     "data": {
      "text/plain": [
       "100"
      ]
     },
     "execution_count": 273,
     "metadata": {},
     "output_type": "execute_result"
    }
   ],
   "source": [
    "wks = [tag.get_text().strip() for tag in soup.select('.chart-results-list li.lrv-u-width-100p ul li:nth-child(5)')][1::2]\n",
    "len(wks)"
   ]
  },
  {
   "cell_type": "code",
   "execution_count": 294,
   "metadata": {},
   "outputs": [
    {
     "data": {
      "text/html": [
       "<div>\n",
       "<style scoped>\n",
       "    .dataframe tbody tr th:only-of-type {\n",
       "        vertical-align: middle;\n",
       "    }\n",
       "\n",
       "    .dataframe tbody tr th {\n",
       "        vertical-align: top;\n",
       "    }\n",
       "\n",
       "    .dataframe thead th {\n",
       "        text-align: right;\n",
       "    }\n",
       "</style>\n",
       "<table border=\"1\" class=\"dataframe\">\n",
       "  <thead>\n",
       "    <tr style=\"text-align: right;\">\n",
       "      <th></th>\n",
       "      <th>title</th>\n",
       "      <th>artist</th>\n",
       "      <th>songwriter</th>\n",
       "      <th>producer</th>\n",
       "      <th>label</th>\n",
       "      <th>award</th>\n",
       "      <th>last_week</th>\n",
       "      <th>peak_pos</th>\n",
       "      <th>wks</th>\n",
       "    </tr>\n",
       "  </thead>\n",
       "  <tbody>\n",
       "    <tr>\n",
       "      <th>0</th>\n",
       "      <td>All I Want For Christmas Is You</td>\n",
       "      <td>Mariah Carey</td>\n",
       "      <td>M.Carey, W.Afanasieff</td>\n",
       "      <td>W.Afanasieff, M.Carey</td>\n",
       "      <td>Columbia/Legacy</td>\n",
       "      <td>[\\n]</td>\n",
       "      <td>1</td>\n",
       "      <td>1</td>\n",
       "      <td>58</td>\n",
       "    </tr>\n",
       "    <tr>\n",
       "      <th>1</th>\n",
       "      <td>Rockin' Around The Christmas Tree</td>\n",
       "      <td>Brenda Lee</td>\n",
       "      <td>J.D.Marks</td>\n",
       "      <td>O.Bradley</td>\n",
       "      <td>Decca/MCA Nashville/UMe</td>\n",
       "      <td>[\\n]</td>\n",
       "      <td>2</td>\n",
       "      <td>2</td>\n",
       "      <td>52</td>\n",
       "    </tr>\n",
       "    <tr>\n",
       "      <th>2</th>\n",
       "      <td>Jingle Bell Rock</td>\n",
       "      <td>Bobby Helms</td>\n",
       "      <td>J.C.Beal, J.R.Boothe</td>\n",
       "      <td>O.Bradley</td>\n",
       "      <td>Decca/MCA Nashville/Geffen/UMe</td>\n",
       "      <td>[\\n]</td>\n",
       "      <td>3</td>\n",
       "      <td>3</td>\n",
       "      <td>49</td>\n",
       "    </tr>\n",
       "    <tr>\n",
       "      <th>3</th>\n",
       "      <td>Last Christmas</td>\n",
       "      <td>Wham!</td>\n",
       "      <td>G.Michael</td>\n",
       "      <td>G.Michael</td>\n",
       "      <td>Columbia/Legacy</td>\n",
       "      <td>[\\n]</td>\n",
       "      <td>5</td>\n",
       "      <td>4</td>\n",
       "      <td>31</td>\n",
       "    </tr>\n",
       "    <tr>\n",
       "      <th>4</th>\n",
       "      <td>A Holly Jolly Christmas</td>\n",
       "      <td>Burl Ives</td>\n",
       "      <td>J.D.Marks</td>\n",
       "      <td>M.Gabler</td>\n",
       "      <td>Decca/MCA Special Products/Geffen/UMe</td>\n",
       "      <td>[\\n]</td>\n",
       "      <td>4</td>\n",
       "      <td>4</td>\n",
       "      <td>32</td>\n",
       "    </tr>\n",
       "  </tbody>\n",
       "</table>\n",
       "</div>"
      ],
      "text/plain": [
       "                               title        artist             songwriter  \\\n",
       "0    All I Want For Christmas Is You  Mariah Carey  M.Carey, W.Afanasieff   \n",
       "1  Rockin' Around The Christmas Tree    Brenda Lee              J.D.Marks   \n",
       "2                   Jingle Bell Rock   Bobby Helms   J.C.Beal, J.R.Boothe   \n",
       "3                     Last Christmas         Wham!              G.Michael   \n",
       "4            A Holly Jolly Christmas     Burl Ives              J.D.Marks   \n",
       "\n",
       "                producer                                  label award  \\\n",
       "0  W.Afanasieff, M.Carey                        Columbia/Legacy  [\\n]   \n",
       "1              O.Bradley                Decca/MCA Nashville/UMe  [\\n]   \n",
       "2              O.Bradley         Decca/MCA Nashville/Geffen/UMe  [\\n]   \n",
       "3              G.Michael                        Columbia/Legacy  [\\n]   \n",
       "4               M.Gabler  Decca/MCA Special Products/Geffen/UMe  [\\n]   \n",
       "\n",
       "  last_week peak_pos wks  \n",
       "0         1        1  58  \n",
       "1         2        2  52  \n",
       "2         3        3  49  \n",
       "3         5        4  31  \n",
       "4         4        4  32  "
      ]
     },
     "execution_count": 294,
     "metadata": {},
     "output_type": "execute_result"
    }
   ],
   "source": [
    "data = pd.DataFrame({\n",
    "    'title': titles,\n",
    "    'artist': artists,\n",
    "    'songwriter': songwriters,\n",
    "    'producer': producers,\n",
    "    'label': labels,\n",
    "    'award': awards,\n",
    "    'last_week': last_weeks,\n",
    "    'peak_pos': peak_pos,\n",
    "    'wks': wks\n",
    "})\n",
    "\n",
    "data.head()"
   ]
  },
  {
   "cell_type": "code",
   "execution_count": null,
   "metadata": {},
   "outputs": [],
   "source": []
  }
 ],
 "metadata": {
  "kernelspec": {
   "display_name": "base",
   "language": "python",
   "name": "python3"
  },
  "language_info": {
   "codemirror_mode": {
    "name": "ipython",
    "version": 3
   },
   "file_extension": ".py",
   "mimetype": "text/x-python",
   "name": "python",
   "nbconvert_exporter": "python",
   "pygments_lexer": "ipython3",
   "version": "3.9.13"
  },
  "orig_nbformat": 4,
  "vscode": {
   "interpreter": {
    "hash": "40d3a090f54c6569ab1632332b64b2c03c39dcf918b08424e98f38b5ae0af88f"
   }
  }
 },
 "nbformat": 4,
 "nbformat_minor": 2
}
